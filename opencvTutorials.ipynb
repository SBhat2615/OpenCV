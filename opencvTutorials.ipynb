{
 "cells": [
  {
   "cell_type": "code",
   "execution_count": 1,
   "id": "2625570b",
   "metadata": {},
   "outputs": [],
   "source": [
    "import cv2\n",
    "import numpy as np\n",
    "\n",
    "path = \"/Users/siddhartha/Desktop/RnC/OpenCv/lena1.jpg\""
   ]
  },
  {
   "cell_type": "markdown",
   "id": "14133451",
   "metadata": {},
   "source": [
    "### Read Image & Video"
   ]
  },
  {
   "cell_type": "code",
   "execution_count": 3,
   "id": "e8823a3d",
   "metadata": {},
   "outputs": [],
   "source": [
    "img = cv2.imread(path, 1)\n",
    "cv2.imshow('Image', img)\n",
    "cv2.waitKey(2000)\n",
    "cv2.destroyAllWindows()"
   ]
  },
  {
   "cell_type": "code",
   "execution_count": null,
   "id": "f6b40f3b",
   "metadata": {},
   "outputs": [],
   "source": []
  },
  {
   "cell_type": "markdown",
   "id": "a432048d",
   "metadata": {},
   "source": [
    "### Basic Functions"
   ]
  },
  {
   "cell_type": "code",
   "execution_count": 10,
   "id": "b4ccd5d6",
   "metadata": {},
   "outputs": [],
   "source": [
    "# Read as gray image\n",
    "img = cv2.imread(path, 0)\n",
    "cv2.imshow('Gray Image 1', img)\n",
    "cv2.waitKey(1000)\n",
    "\n",
    "cv2.destroyAllWindows()"
   ]
  },
  {
   "cell_type": "code",
   "execution_count": 13,
   "id": "bc468497",
   "metadata": {},
   "outputs": [],
   "source": [
    "# Convert to gray\n",
    "img = cv2.imread(path)\n",
    "imgGray = cv2.cvtColor(img, cv2.COLOR_BGR2GRAY)\n",
    "cv2.imshow('Gray Image 2', imgGray)\n",
    "cv2.waitKey(1000)\n",
    "\n",
    "cv2.destroyAllWindows()"
   ]
  },
  {
   "cell_type": "code",
   "execution_count": 22,
   "id": "1908a761",
   "metadata": {},
   "outputs": [],
   "source": [
    "# Blur image using Gaussian Blur\n",
    "img = cv2.imread(path)\n",
    "imgBlur = cv2.GaussianBlur(img, (7,7), 0)\n",
    "cv2.imshow('Blur Image', imgBlur)\n",
    "cv2.waitKey(1000)\n",
    "\n",
    "cv2.destroyAllWindows()"
   ]
  },
  {
   "cell_type": "code",
   "execution_count": 39,
   "id": "c0bcda7c",
   "metadata": {},
   "outputs": [],
   "source": [
    "img = cv2.imread(path)\n",
    "imgBlur = cv2.GaussianBlur(img, (7,7), 0)\n",
    "\n",
    "imgCanny = cv2.Canny(imgBlur, 150, 150)\n",
    "cv2.imshow('Canny Image', imgCanny)\n",
    "cv2.waitKey(1000)\n",
    "\n",
    "cv2.destroyAllWindows()"
   ]
  },
  {
   "cell_type": "code",
   "execution_count": 41,
   "id": "d91f948a",
   "metadata": {},
   "outputs": [],
   "source": [
    "kernel = np.ones((5,5), np.uint8)\n",
    "#print(kernel)\n",
    "\n",
    "img = cv2.imread(path)\n",
    "imgDilate = cv2.dilate(imgCanny, kernel, iterations=1)  #increase canny size\n",
    "cv2.imshow('Dilated Image', imgDilate)\n",
    "cv2.waitKey(1000)\n",
    "\n",
    "cv2.destroyAllWindows()"
   ]
  },
  {
   "cell_type": "code",
   "execution_count": 43,
   "id": "7b6317fd",
   "metadata": {},
   "outputs": [],
   "source": [
    "kernel = np.ones((5,5), np.uint8)\n",
    "#print(kernel)\n",
    "\n",
    "img = cv2.imread(path)\n",
    "imgErode = cv2.erode(imgDilate, kernel, iterations=1)  #thining images // decrease canny size\n",
    "cv2.imshow('Eroded Image', imgErode)\n",
    "cv2.waitKey(1000)\n",
    "\n",
    "cv2.destroyAllWindows()"
   ]
  },
  {
   "cell_type": "markdown",
   "id": "47fba9ba",
   "metadata": {},
   "source": [
    "### Crop & Resize Image"
   ]
  },
  {
   "cell_type": "markdown",
   "id": "5b63d889",
   "metadata": {},
   "source": [
    "Resize Image"
   ]
  },
  {
   "cell_type": "code",
   "execution_count": 4,
   "id": "7e556bca",
   "metadata": {},
   "outputs": [
    {
     "name": "stdout",
     "output_type": "stream",
     "text": [
      "(512, 512, 3)\n",
      "(200, 200, 3)\n"
     ]
    }
   ],
   "source": [
    "img = cv2.imread(path)\n",
    "\n",
    "width, height = 200, 200\n",
    "imgResize = cv2.resize(img, (width, height))\n",
    "print(img.shape)     #(height, width, channels) , (img.shape[0]) / img.shape[1]\n",
    "print(imgResize.shape)\n",
    "cv2.imshow('Resized Image', imgResize)\n",
    "cv2.waitKey(1000)\n",
    "\n",
    "cv2.destroyAllWindows()"
   ]
  },
  {
   "cell_type": "markdown",
   "id": "e320875e",
   "metadata": {},
   "source": [
    "Crop Image"
   ]
  },
  {
   "cell_type": "code",
   "execution_count": 4,
   "id": "2507b429",
   "metadata": {
    "scrolled": true
   },
   "outputs": [],
   "source": [
    "img = cv2.imread(path)\n",
    "\n",
    "imgCrop = img[200:400, :]    #[height, width]\n",
    "cv2.imshow('Cropped Image', imgCrop)\n",
    "cv2.waitKey(1000)\n",
    "\n",
    "cv2.destroyAllWindows()"
   ]
  },
  {
   "cell_type": "markdown",
   "id": "2e8714a7",
   "metadata": {},
   "source": [
    "### Draw Shapes & Text"
   ]
  },
  {
   "cell_type": "code",
   "execution_count": 17,
   "id": "1a1bd123",
   "metadata": {
    "scrolled": true
   },
   "outputs": [],
   "source": [
    "img = np.zeros((512, 512, 3), np.uint8)\n",
    "\n",
    "#cv2.imshow(\"Blank Image\", img)\n",
    "#print(img.shape)\n",
    "#print(img)\n",
    "#img[:] = 255, 0, 0\n",
    "\n",
    "# Coordinates = (width, height)\n",
    "cv2.line(img, (0,0), (img.shape[1],img.shape[0]), (0, 255, 0), 2)\n",
    "cv2.rectangle(img, (350, 100), (450, 300), (0, 0, 255), cv2.FILLED)\n",
    "cv2.circle(img, (150, 400), 20, (255, 0, 0), cv2.FILLED)\n",
    "\n",
    "cv2.imshow('Shapes on Image', img)\n",
    "cv2.waitKey(1000)\n",
    "cv2.destroyAllWindows()"
   ]
  },
  {
   "cell_type": "markdown",
   "id": "a1a539be",
   "metadata": {},
   "source": [
    "Text"
   ]
  },
  {
   "cell_type": "code",
   "execution_count": 21,
   "id": "bfe64959",
   "metadata": {},
   "outputs": [],
   "source": [
    "img = np.zeros((512, 512, 3), np.uint8)\n",
    "\n",
    "# Coordinates = (width, height)\n",
    "cv2.putText(img, \"Writing a text\", (75, 50), cv2.FONT_HERSHEY_COMPLEX, 1, (0, 150, 150), 2)\n",
    "\n",
    "cv2.imshow('Text on an Image', img)\n",
    "cv2.waitKey(1000)\n",
    "cv2.destroyAllWindows()"
   ]
  },
  {
   "cell_type": "markdown",
   "id": "5c8668cf",
   "metadata": {},
   "source": [
    "### Join Multiple Images to Display"
   ]
  },
  {
   "cell_type": "code",
   "execution_count": 25,
   "id": "8ef7ebe5",
   "metadata": {},
   "outputs": [
    {
     "name": "stdout",
     "output_type": "stream",
     "text": [
      "(512, 512, 3)\n"
     ]
    }
   ],
   "source": [
    "img = cv2.imread(path)\n",
    "\n",
    "print(img.shape)\n",
    "scale=0.5\n",
    "img = cv2.resize(img, (0,0), None, scale, scale)\n",
    "\n",
    "hor = np.hstack((img, img, img))\n",
    "ver = np.vstack((img, img))\n",
    "\n",
    "cv2.imshow('Horizontal join', hor)\n",
    "cv2.imshow('Vertical join', ver)\n",
    "cv2.waitKey(1000)\n",
    "cv2.destroyAllWindows()"
   ]
  },
  {
   "cell_type": "markdown",
   "id": "0c696db1",
   "metadata": {},
   "source": [
    "Stack Multiple Images"
   ]
  },
  {
   "cell_type": "code",
   "execution_count": null,
   "id": "21aacc15",
   "metadata": {},
   "outputs": [],
   "source": []
  },
  {
   "cell_type": "markdown",
   "id": "b38e1397",
   "metadata": {},
   "source": [
    "### Warp Images (Warp perspective)"
   ]
  },
  {
   "cell_type": "code",
   "execution_count": null,
   "id": "641674af",
   "metadata": {},
   "outputs": [],
   "source": [
    "img = cv2.imread()\n",
    "\n",
    "\n",
    "\n",
    "cv2.imshow(\" \", )\n",
    "cv2.waitKey(1000)\n",
    "cv2.destroyAllWindows()"
   ]
  },
  {
   "cell_type": "code",
   "execution_count": null,
   "id": "e07bd05d",
   "metadata": {},
   "outputs": [],
   "source": []
  },
  {
   "cell_type": "markdown",
   "id": "b4137e27",
   "metadata": {},
   "source": [
    "### Detecting Clicks on Images"
   ]
  },
  {
   "cell_type": "code",
   "execution_count": null,
   "id": "99bae651",
   "metadata": {},
   "outputs": [],
   "source": []
  },
  {
   "cell_type": "code",
   "execution_count": null,
   "id": "5b192583",
   "metadata": {},
   "outputs": [],
   "source": []
  },
  {
   "cell_type": "markdown",
   "id": "b6557436",
   "metadata": {},
   "source": [
    "### Realtime Color Detection"
   ]
  },
  {
   "cell_type": "code",
   "execution_count": null,
   "id": "4df810dd",
   "metadata": {},
   "outputs": [],
   "source": []
  },
  {
   "cell_type": "code",
   "execution_count": null,
   "id": "f892a8c6",
   "metadata": {},
   "outputs": [],
   "source": []
  },
  {
   "cell_type": "markdown",
   "id": "4b477bee",
   "metadata": {},
   "source": [
    "### Realtime Shape Detection using Contours"
   ]
  },
  {
   "cell_type": "code",
   "execution_count": null,
   "id": "5e7b02c0",
   "metadata": {},
   "outputs": [],
   "source": []
  },
  {
   "cell_type": "code",
   "execution_count": null,
   "id": "d33e4ecf",
   "metadata": {},
   "outputs": [],
   "source": []
  },
  {
   "cell_type": "code",
   "execution_count": null,
   "id": "5a81eb48",
   "metadata": {},
   "outputs": [],
   "source": []
  }
 ],
 "metadata": {
  "kernelspec": {
   "display_name": "Python 3.9 (tensorflow)",
   "language": "python",
   "name": "tensorflow"
  },
  "language_info": {
   "codemirror_mode": {
    "name": "ipython",
    "version": 3
   },
   "file_extension": ".py",
   "mimetype": "text/x-python",
   "name": "python",
   "nbconvert_exporter": "python",
   "pygments_lexer": "ipython3",
   "version": "3.9.10"
  }
 },
 "nbformat": 4,
 "nbformat_minor": 5
}
